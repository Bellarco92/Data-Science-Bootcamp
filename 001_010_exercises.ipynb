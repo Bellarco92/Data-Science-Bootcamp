{
  "nbformat": 4,
  "nbformat_minor": 0,
  "metadata": {
    "colab": {
      "provenance": [],
      "include_colab_link": true
    },
    "kernelspec": {
      "name": "python3",
      "display_name": "Python 3"
    }
  },
  "cells": [
    {
      "cell_type": "markdown",
      "metadata": {
        "id": "view-in-github",
        "colab_type": "text"
      },
      "source": [
        "<a href=\"https://colab.research.google.com/github/Bellarco92/Data-Science-Bootcamp/blob/main/001_010_exercises.ipynb\" target=\"_parent\"><img src=\"https://colab.research.google.com/assets/colab-badge.svg\" alt=\"Open In Colab\"/></a>"
      ]
    },
    {
      "cell_type": "markdown",
      "metadata": {
        "id": "WLEgCW5F1hho"
      },
      "source": [
        "## Numpy\n",
        "\n",
        "### Spis treści:\n",
        "* [Import biblioteki](#0)\n",
        "* [Ćwiczenie 1](#1)\n",
        "* [Ćwiczenie 2](#2)\n",
        "* [Ćwiczenie 3](#3)\n",
        "* [Ćwiczenie 4](#4)\n",
        "* [Ćwiczenie 5](#5)\n",
        "* [Ćwiczenie 6](#6)\n",
        "* [Ćwiczenie 7](#7)\n",
        "* [Ćwiczenie 8](#8)\n",
        "* [Ćwiczenie 9](#9)\n",
        "* [Ćwiczenie 10](#10)"
      ]
    },
    {
      "cell_type": "markdown",
      "metadata": {
        "id": "zeLOLmTj1kBM"
      },
      "source": [
        "### <a name='0'></a>Import biblioteki"
      ]
    },
    {
      "cell_type": "code",
      "metadata": {
        "id": "HXMB7SMe1Wnz",
        "colab": {
          "base_uri": "https://localhost:8080/",
          "height": 35
        },
        "outputId": "c6918d09-4d00-4013-ef06-20c377a3a17d"
      },
      "source": [
        "import numpy as np\n",
        "\n",
        "np.__version__"
      ],
      "execution_count": 1,
      "outputs": [
        {
          "output_type": "execute_result",
          "data": {
            "text/plain": [
              "'1.21.6'"
            ],
            "application/vnd.google.colaboratory.intrinsic+json": {
              "type": "string"
            }
          },
          "metadata": {},
          "execution_count": 1
        }
      ]
    },
    {
      "cell_type": "markdown",
      "metadata": {
        "id": "cyc70pMe1oCg"
      },
      "source": [
        "### <a name='1'></a> Ćwiczenie 1\n",
        "Sprawdź czy wszystkie elementy tablic $A, B, C$ oraz $D$ zwracają wartość logiczną _True_.\n",
        "\n",
        "\n",
        "\n",
        "```\n",
        "A = np.array([[3, 2, 1, 4],\n",
        "              [5, 2, 1, 6]])\n",
        "\n",
        "B = np.array([[3, 2, 1, 4],\n",
        "              [5, 2, 0, 6]])\n",
        "\n",
        "C = np.array([[True, False, False],\n",
        "              [True, True, True]])\n",
        "\n",
        "D = np.array([0.1, 0.3])\n",
        "```\n",
        "\n",
        "\n",
        "\n",
        "__Wskazówka:__ Użyj funkcji _np.all()._"
      ]
    },
    {
      "cell_type": "code",
      "metadata": {
        "id": "IF1NmNBs1mxS",
        "colab": {
          "base_uri": "https://localhost:8080/"
        },
        "outputId": "6b068065-a26a-4cc4-e0a1-1abd3628e9e1"
      },
      "source": [
        "A = np.array([[3, 2, 1, 4],\n",
        "              [5, 2, 1, 6]])\n",
        "\n",
        "B = np.array([[3, 2, 1, 4],\n",
        "              [5, 2, 0, 6]])\n",
        "\n",
        "C = np.array([[True, False, False],\n",
        "              [True, True, True]])\n",
        "\n",
        "D = np.array([0.1, 0.3])\n",
        "\n",
        "np.all(A)\n"
      ],
      "execution_count": 6,
      "outputs": [
        {
          "output_type": "execute_result",
          "data": {
            "text/plain": [
              "True"
            ]
          },
          "metadata": {},
          "execution_count": 6
        }
      ]
    },
    {
      "cell_type": "markdown",
      "metadata": {
        "id": "J9pY1rtr1sC0"
      },
      "source": [
        "### <a name='2'></a> Ćwiczenie 2\n",
        "Sprawdź czy wszystkie elementy tablic $A, B$ oraz $C$ zwracają wartość logiczną _True_ wzdłuż osi z indeksem 1.\n",
        "\n",
        "\n",
        "```\n",
        "A = np.array([[3, 2, 1, 4],\n",
        "              [5, 2, 1, 6]])\n",
        "\n",
        "B = np.array([[3, 2, 1, 4],\n",
        "              [5, 2, 0, 6]])\n",
        "\n",
        "C = np.array([[True, False, False],\n",
        "              [True, True, True]])\n",
        "```\n",
        "\n",
        "\n",
        "\n",
        "__Wskazówka:__ Użyj funkcji _np.all()_ z parametrem _axis._"
      ]
    },
    {
      "cell_type": "code",
      "metadata": {
        "id": "zpTYzL-O1qxq",
        "colab": {
          "base_uri": "https://localhost:8080/"
        },
        "outputId": "77d59a29-9c39-457a-ec37-6ec8bac53379"
      },
      "source": [
        "A = np.array([[3, 2, 1, 4],\n",
        "              [5, 2, 1, 6]])\n",
        "\n",
        "B = np.array([[3, 2, 1, 4],\n",
        "              [5, 2, 0, 6]])\n",
        "\n",
        "C = np.array([[True, False, False],\n",
        "              [True, True, True]])\n",
        "\n",
        "np.all(C, axis=1)\n",
        "\n"
      ],
      "execution_count": 15,
      "outputs": [
        {
          "output_type": "execute_result",
          "data": {
            "text/plain": [
              "array([False,  True])"
            ]
          },
          "metadata": {},
          "execution_count": 15
        }
      ]
    },
    {
      "cell_type": "markdown",
      "metadata": {
        "id": "XQLYT2m11wVG"
      },
      "source": [
        "### <a name='3'></a> Ćwiczenie 3\n",
        "Sprawdź czy jakikolwiek element tablic $A, B, C$ oraz $D$ odpowiednio, zwraca wartość logiczną _True_.\n",
        "\n",
        "\n",
        "```\n",
        "A = np.array([[0, 0, 0],\n",
        "              [0, 0, 0]])\n",
        "\n",
        "B = np.array([[0, 0, 0],\n",
        "              [0, 1, 0]])\n",
        "\n",
        "C = np.array([[False, False, False],\n",
        "              [True, False, False]])\n",
        "\n",
        "D = np.array([[0.1, 0.0]])\n",
        "```\n",
        "\n",
        "\n",
        "__Wskazówka:__ Użyj funkcji _np.any()._"
      ]
    },
    {
      "cell_type": "code",
      "metadata": {
        "id": "8ZdasxYF1u8f",
        "colab": {
          "base_uri": "https://localhost:8080/"
        },
        "outputId": "6141b1fb-9bf5-4fcf-8155-7751a2dbf2b6"
      },
      "source": [
        "A = np.array([[0, 0, 0],\n",
        "              [0, 0, 0]])\n",
        "\n",
        "B = np.array([[0, 0, 0],\n",
        "              [0, 1, 0]])\n",
        "\n",
        "C = np.array([[False, False, False],\n",
        "              [True, False, False]])\n",
        "\n",
        "D = np.array([[0.1, 0.0]])\n",
        "\n",
        "\n",
        "np.any(D)"
      ],
      "execution_count": 19,
      "outputs": [
        {
          "output_type": "execute_result",
          "data": {
            "text/plain": [
              "True"
            ]
          },
          "metadata": {},
          "execution_count": 19
        }
      ]
    },
    {
      "cell_type": "markdown",
      "metadata": {
        "id": "4xTKSUzg10MK"
      },
      "source": [
        "### <a name='4'></a> Ćwiczenie 4\n",
        "Sprawdź czy jakikolwiek element tablic $A, B, C$ oraz $D$ odpowiednio, zwraca wartość logiczną _True_ wzdłuż osi z indeksem 0.\n",
        "\n",
        "\n",
        "```\n",
        "A = np.array([[0, 0, 0],\n",
        "              [0, 0, 0]])\n",
        "\n",
        "B = np.array([[0, 0, 0],\n",
        "              [0, 1, 0]])\n",
        "\n",
        "C = np.array([[False, False, False],\n",
        "              [True, False, False]])\n",
        "\n",
        "D = np.array([[0.1, 0.0]])\n",
        "```\n",
        "\n",
        "\n",
        "\n",
        "__Wskazówka:__ Użyj funkcji _np.any()_ z parametrem _axis._"
      ]
    },
    {
      "cell_type": "code",
      "metadata": {
        "id": "XdfedHWm1ynE",
        "colab": {
          "base_uri": "https://localhost:8080/"
        },
        "outputId": "2d8f04d1-04b3-4bae-e15b-1dbed71ff3a2"
      },
      "source": [
        "np.any(A, axis=0)"
      ],
      "execution_count": 20,
      "outputs": [
        {
          "output_type": "execute_result",
          "data": {
            "text/plain": [
              "array([False, False, False])"
            ]
          },
          "metadata": {},
          "execution_count": 20
        }
      ]
    },
    {
      "cell_type": "code",
      "source": [
        "np.any(B, axis=0)"
      ],
      "metadata": {
        "id": "G-b75AR3KRO2",
        "outputId": "d786de2e-ae5b-49de-c61a-adb941a30825",
        "colab": {
          "base_uri": "https://localhost:8080/"
        }
      },
      "execution_count": 21,
      "outputs": [
        {
          "output_type": "execute_result",
          "data": {
            "text/plain": [
              "array([False,  True, False])"
            ]
          },
          "metadata": {},
          "execution_count": 21
        }
      ]
    },
    {
      "cell_type": "code",
      "source": [
        "np.any(C, axis=0)"
      ],
      "metadata": {
        "id": "PqUC6yg5Kazn",
        "outputId": "893231b7-0513-4f21-98f6-09935993d48c",
        "colab": {
          "base_uri": "https://localhost:8080/"
        }
      },
      "execution_count": 22,
      "outputs": [
        {
          "output_type": "execute_result",
          "data": {
            "text/plain": [
              "array([ True, False, False])"
            ]
          },
          "metadata": {},
          "execution_count": 22
        }
      ]
    },
    {
      "cell_type": "code",
      "source": [
        "\n",
        "D = np.array([[0.1, 0.0]])\n",
        "np.any(D, axis=0)"
      ],
      "metadata": {
        "id": "4SJzrxrQKgWr",
        "outputId": "bfab3e07-5354-4be9-d849-6a7ab461c2f2",
        "colab": {
          "base_uri": "https://localhost:8080/"
        }
      },
      "execution_count": 26,
      "outputs": [
        {
          "output_type": "execute_result",
          "data": {
            "text/plain": [
              "array([ True, False])"
            ]
          },
          "metadata": {},
          "execution_count": 26
        }
      ]
    },
    {
      "cell_type": "markdown",
      "metadata": {
        "id": "o3HKIKlP15Ro"
      },
      "source": [
        "### <a name='5'></a> Ćwiczenie 5\n",
        "Sprawdź tablicę $A$ pod kątem braków danych (_np.nan_).\n",
        "\n",
        "\n",
        "```\n",
        "A = np.array([[3, 2, 1, np.nan],\n",
        "              [5, np.nan, 1, 6]])\n",
        "```\n",
        "\n",
        "\n",
        "__Wskazówka:__ Użyj funkcji _np.isnan()_."
      ]
    },
    {
      "cell_type": "code",
      "metadata": {
        "id": "pjKDpdCy12cg",
        "colab": {
          "base_uri": "https://localhost:8080/"
        },
        "outputId": "15d2e959-840f-42ec-b8ba-5b136237d01b"
      },
      "source": [
        "A = np.array([[3, 2, 1, np.nan],\n",
        "              [5, np.nan, 1, 6]])\n",
        "np.isnan(A)"
      ],
      "execution_count": 25,
      "outputs": [
        {
          "output_type": "execute_result",
          "data": {
            "text/plain": [
              "array([[False, False, False,  True],\n",
              "       [False,  True, False, False]])"
            ]
          },
          "metadata": {},
          "execution_count": 25
        }
      ]
    },
    {
      "cell_type": "markdown",
      "metadata": {
        "id": "PunXd_Ey16so"
      },
      "source": [
        "### <a name='6'></a> Ćwiczenie 6\n",
        "Sprawdź, czy poniższe tablice $A$ oraz $B$ są równe pod względem elementów (element-wise) z ustalonym poziomem tolerancji. Użyj funkcji _np.allclose()_ z domyślnymi parametrami.\n",
        " \n",
        "\n",
        "\n",
        "```\n",
        "A = np.array([0.4, 0.5, 0.3])\n",
        "B = np.array([0.39999999, 0.5000001, 0.3])\n",
        "```\n"
      ]
    },
    {
      "cell_type": "code",
      "metadata": {
        "id": "gJTx2KhF175d",
        "colab": {
          "base_uri": "https://localhost:8080/"
        },
        "outputId": "9a1c9b0e-8ee7-433b-f925-ad274c815372"
      },
      "source": [
        "A = np.array([0.4, 0.5, 0.3])\n",
        "B = np.array([0.39999999, 0.5000001, 0.3])\n",
        "np.allclose(A, B)"
      ],
      "execution_count": 27,
      "outputs": [
        {
          "output_type": "execute_result",
          "data": {
            "text/plain": [
              "True"
            ]
          },
          "metadata": {},
          "execution_count": 27
        }
      ]
    },
    {
      "cell_type": "markdown",
      "metadata": {
        "id": "hOhqDRz618Tx"
      },
      "source": [
        "### <a name='7'></a> Ćwiczenie 7\n",
        "Sprawdź, czy poniższe tablice $A$ oraz $B$ są równe pod względem elementów (element-wise). Użyj operatora porównania _==_.\n",
        "\n",
        "\n",
        "```\n",
        "A = np.array([0.4, 0.5, 0.3])\n",
        "B = np.array([0.3999999999, 0.5000000001, 0.3])\n",
        "```"
      ]
    },
    {
      "cell_type": "code",
      "metadata": {
        "id": "G4jvbzwe1-AH",
        "colab": {
          "base_uri": "https://localhost:8080/"
        },
        "outputId": "16d0dda9-444b-4ebf-ea27-3e4f9130ec06"
      },
      "source": [
        "A == B"
      ],
      "execution_count": 28,
      "outputs": [
        {
          "output_type": "execute_result",
          "data": {
            "text/plain": [
              "array([False, False,  True])"
            ]
          },
          "metadata": {},
          "execution_count": 28
        }
      ]
    },
    {
      "cell_type": "markdown",
      "metadata": {
        "id": "TXUd_4631-gw"
      },
      "source": [
        "### <a name='8'></a> Ćwiczenie 8\n",
        "Sprawdź, dla których elementów (element-wise) poniższa tablica $A$ ma większe wartości niż tablica $B$.\n",
        "\n",
        "\n",
        "```\n",
        "A = np.array([0.4, 0.5, 0.3, 0.9])\n",
        "B = np.array([0.38, 0.51, 0.3, 0.91])\n",
        "```\n",
        "\n"
      ]
    },
    {
      "cell_type": "code",
      "metadata": {
        "id": "QWK7Yr671_xV",
        "colab": {
          "base_uri": "https://localhost:8080/"
        },
        "outputId": "7bdbb13d-b779-4e66-ce55-546a0af36fd9"
      },
      "source": [
        "A > B"
      ],
      "execution_count": 29,
      "outputs": [
        {
          "output_type": "execute_result",
          "data": {
            "text/plain": [
              "array([ True, False, False])"
            ]
          },
          "metadata": {},
          "execution_count": 29
        }
      ]
    },
    {
      "cell_type": "markdown",
      "metadata": {
        "id": "tgI6xEn-2AQo"
      },
      "source": [
        "### <a name='9'></a> Ćwiczenie 9\n",
        "Stwórz tablicę numpy wymiaru _4x4_ wypełnioną zerami. Ustal typ danych na _int_.\n",
        "\n",
        "__Oczekiwany wynik:__\n",
        "\n",
        "\n",
        "```\n",
        "array([[0, 0, 0, 0],\n",
        "       [0, 0, 0, 0],\n",
        "       [0, 0, 0, 0],\n",
        "       [0, 0, 0, 0]])\n",
        "```\n",
        "\n",
        "\n",
        "\n",
        "__Wskazówka:__ Użyj funkcji _np.zeros()_."
      ]
    },
    {
      "cell_type": "code",
      "metadata": {
        "id": "-_mfXExMOeSc",
        "colab": {
          "base_uri": "https://localhost:8080/"
        },
        "outputId": "a6a2782e-0a0f-4c64-b129-c3f4de6cd687"
      },
      "source": [
        "np.zeros([4, 4], dtype=int)"
      ],
      "execution_count": 34,
      "outputs": [
        {
          "output_type": "execute_result",
          "data": {
            "text/plain": [
              "array([[0, 0, 0, 0],\n",
              "       [0, 0, 0, 0],\n",
              "       [0, 0, 0, 0],\n",
              "       [0, 0, 0, 0]])"
            ]
          },
          "metadata": {},
          "execution_count": 34
        }
      ]
    },
    {
      "cell_type": "markdown",
      "metadata": {
        "id": "wxhpf-uq2B1I"
      },
      "source": [
        "### <a name='10'></a> Ćwiczenie 10\n",
        "Stwórz tablicę numpy wymiaru _10x10_ wypełnioną liczbą 255. Ustal typ danych na _float_.\n",
        "\n",
        "__Oczekiwany wynik:__\n",
        "\n",
        "\n",
        "```\n",
        "array([[255., 255., 255., 255., 255., 255., 255., 255., 255., 255.],\n",
        "       [255., 255., 255., 255., 255., 255., 255., 255., 255., 255.],\n",
        "       [255., 255., 255., 255., 255., 255., 255., 255., 255., 255.],\n",
        "       [255., 255., 255., 255., 255., 255., 255., 255., 255., 255.],\n",
        "       [255., 255., 255., 255., 255., 255., 255., 255., 255., 255.],\n",
        "       [255., 255., 255., 255., 255., 255., 255., 255., 255., 255.],\n",
        "       [255., 255., 255., 255., 255., 255., 255., 255., 255., 255.],\n",
        "       [255., 255., 255., 255., 255., 255., 255., 255., 255., 255.],\n",
        "       [255., 255., 255., 255., 255., 255., 255., 255., 255., 255.],\n",
        "       [255., 255., 255., 255., 255., 255., 255., 255., 255., 255.]])\n",
        "```\n",
        "\n",
        "\n",
        "\n",
        "__Wskazówka:__ Użyj funkcji _np.ones()_ lub _np.full()_."
      ]
    },
    {
      "cell_type": "code",
      "metadata": {
        "id": "49lqFGT42Dji",
        "colab": {
          "base_uri": "https://localhost:8080/"
        },
        "outputId": "fdbb4d26-7de5-4c3f-a1c4-ac1c94f31554"
      },
      "source": [
        "np.full([10, 10], fill_value=255, dtype=float)"
      ],
      "execution_count": 36,
      "outputs": [
        {
          "output_type": "execute_result",
          "data": {
            "text/plain": [
              "array([[255., 255., 255., 255., 255., 255., 255., 255., 255., 255.],\n",
              "       [255., 255., 255., 255., 255., 255., 255., 255., 255., 255.],\n",
              "       [255., 255., 255., 255., 255., 255., 255., 255., 255., 255.],\n",
              "       [255., 255., 255., 255., 255., 255., 255., 255., 255., 255.],\n",
              "       [255., 255., 255., 255., 255., 255., 255., 255., 255., 255.],\n",
              "       [255., 255., 255., 255., 255., 255., 255., 255., 255., 255.],\n",
              "       [255., 255., 255., 255., 255., 255., 255., 255., 255., 255.],\n",
              "       [255., 255., 255., 255., 255., 255., 255., 255., 255., 255.],\n",
              "       [255., 255., 255., 255., 255., 255., 255., 255., 255., 255.],\n",
              "       [255., 255., 255., 255., 255., 255., 255., 255., 255., 255.]])"
            ]
          },
          "metadata": {},
          "execution_count": 36
        }
      ]
    }
  ]
}